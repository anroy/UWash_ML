{
 "cells": [
  {
   "cell_type": "markdown",
   "metadata": {},
   "source": [
    "# Installing Python and GraphLab Create"
   ]
  },
  {
   "cell_type": "markdown",
   "metadata": {},
   "source": [
    "Please follow the installation instructions here before getting started:\n",
    "\n",
    "## We have done\n",
    "* Installed Python\n",
    "* Started Ipython Notebook"
   ]
  },
  {
   "cell_type": "markdown",
   "metadata": {},
   "source": [
    "# Getting started with Python"
   ]
  },
  {
   "cell_type": "code",
   "execution_count": 1,
   "metadata": {
    "collapsed": false
   },
   "outputs": [
    {
     "name": "stdout",
     "output_type": "stream",
     "text": [
      "Hello World!\n"
     ]
    }
   ],
   "source": [
    "print 'Hello World!'"
   ]
  },
  {
   "cell_type": "markdown",
   "metadata": {},
   "source": [
    "## Create some variables in Python"
   ]
  },
  {
   "cell_type": "code",
   "execution_count": 2,
   "metadata": {
    "collapsed": true
   },
   "outputs": [],
   "source": [
    "i = 4  #int"
   ]
  },
  {
   "cell_type": "code",
   "execution_count": 3,
   "metadata": {
    "collapsed": false
   },
   "outputs": [
    {
     "data": {
      "text/plain": [
       "int"
      ]
     },
     "execution_count": 3,
     "metadata": {},
     "output_type": "execute_result"
    }
   ],
   "source": [
    "type(i)"
   ]
  },
  {
   "cell_type": "code",
   "execution_count": 4,
   "metadata": {
    "collapsed": true
   },
   "outputs": [],
   "source": [
    "f = 4.1  #float"
   ]
  },
  {
   "cell_type": "code",
   "execution_count": 5,
   "metadata": {
    "collapsed": false
   },
   "outputs": [
    {
     "data": {
      "text/plain": [
       "float"
      ]
     },
     "execution_count": 5,
     "metadata": {},
     "output_type": "execute_result"
    }
   ],
   "source": [
    "type(f)"
   ]
  },
  {
   "cell_type": "code",
   "execution_count": 6,
   "metadata": {
    "collapsed": true
   },
   "outputs": [],
   "source": [
    "b = True  #boolean variable"
   ]
  },
  {
   "cell_type": "code",
   "execution_count": 7,
   "metadata": {
    "collapsed": true
   },
   "outputs": [],
   "source": [
    "s = \"This is a string!\""
   ]
  },
  {
   "cell_type": "code",
   "execution_count": 8,
   "metadata": {
    "collapsed": false
   },
   "outputs": [
    {
     "name": "stdout",
     "output_type": "stream",
     "text": [
      "This is a string!\n"
     ]
    }
   ],
   "source": [
    "print s"
   ]
  },
  {
   "cell_type": "markdown",
   "metadata": {},
   "source": [
    "## Advanced python types"
   ]
  },
  {
   "cell_type": "code",
   "execution_count": 9,
   "metadata": {
    "collapsed": true
   },
   "outputs": [],
   "source": [
    "l = [3,1,2]  #list"
   ]
  },
  {
   "cell_type": "code",
   "execution_count": 10,
   "metadata": {
    "collapsed": false
   },
   "outputs": [
    {
     "name": "stdout",
     "output_type": "stream",
     "text": [
      "[3, 1, 2]\n"
     ]
    }
   ],
   "source": [
    "print l"
   ]
  },
  {
   "cell_type": "code",
   "execution_count": 11,
   "metadata": {
    "collapsed": true
   },
   "outputs": [],
   "source": [
    "d = {'foo':1, 'bar':2.3, 's':'my first dictionary'}  #dictionary"
   ]
  },
  {
   "cell_type": "code",
   "execution_count": 12,
   "metadata": {
    "collapsed": false
   },
   "outputs": [
    {
     "name": "stdout",
     "output_type": "stream",
     "text": [
      "{'s': 'my first dictionary', 'foo': 1, 'bar': 2.3}\n"
     ]
    }
   ],
   "source": [
    "print d"
   ]
  },
  {
   "cell_type": "code",
   "execution_count": 13,
   "metadata": {
    "collapsed": false
   },
   "outputs": [
    {
     "name": "stdout",
     "output_type": "stream",
     "text": [
      "1\n"
     ]
    }
   ],
   "source": [
    "print d['foo']  #element of a dictionary"
   ]
  },
  {
   "cell_type": "code",
   "execution_count": 14,
   "metadata": {
    "collapsed": false
   },
   "outputs": [],
   "source": [
    "n = None  #Python's null type"
   ]
  },
  {
   "cell_type": "code",
   "execution_count": 15,
   "metadata": {
    "collapsed": false
   },
   "outputs": [
    {
     "data": {
      "text/plain": [
       "NoneType"
      ]
     },
     "execution_count": 15,
     "metadata": {},
     "output_type": "execute_result"
    }
   ],
   "source": [
    "type(n)"
   ]
  },
  {
   "cell_type": "markdown",
   "metadata": {},
   "source": [
    "## Advanced printing"
   ]
  },
  {
   "cell_type": "code",
   "execution_count": 16,
   "metadata": {
    "collapsed": false
   },
   "outputs": [
    {
     "name": "stdout",
     "output_type": "stream",
     "text": [
      "Our float value is 4.1. Our int value is 4.\n"
     ]
    }
   ],
   "source": [
    "print \"Our float value is %s. Our int value is %s.\" % (f,i)  #Python is pretty good with strings"
   ]
  },
  {
   "cell_type": "markdown",
   "metadata": {},
   "source": [
    "## Conditional statements in python"
   ]
  },
  {
   "cell_type": "code",
   "execution_count": 17,
   "metadata": {
    "collapsed": false
   },
   "outputs": [
    {
     "name": "stdout",
     "output_type": "stream",
     "text": [
      "i or f are both greater than 4.\n"
     ]
    }
   ],
   "source": [
    "if i == 1 and f > 4:\n",
    "    print \"The value of i is 1 and f is greater than 4.\"\n",
    "elif i > 4 or f > 4:\n",
    "    print \"i or f are both greater than 4.\"\n",
    "else:\n",
    "    print \"both i and f are less than or equal to 4\"\n"
   ]
  },
  {
   "cell_type": "markdown",
   "metadata": {},
   "source": [
    "## Conditional loops"
   ]
  },
  {
   "cell_type": "code",
   "execution_count": 18,
   "metadata": {
    "collapsed": false
   },
   "outputs": [
    {
     "name": "stdout",
     "output_type": "stream",
     "text": [
      "[3, 1, 2]\n"
     ]
    }
   ],
   "source": [
    "print l"
   ]
  },
  {
   "cell_type": "code",
   "execution_count": 19,
   "metadata": {
    "collapsed": false
   },
   "outputs": [
    {
     "name": "stdout",
     "output_type": "stream",
     "text": [
      "3\n",
      "1\n",
      "2\n"
     ]
    }
   ],
   "source": [
    "for e in l:\n",
    "    print e"
   ]
  },
  {
   "cell_type": "markdown",
   "metadata": {},
   "source": [
    "Note that in Python, we don't use {} or other markers to indicate the part of the loop that gets iterated.  Instead, we just indent and align each of the iterated statements with spaces or tabs. (You can use as many as you want, as long as the lines are aligned.)"
   ]
  },
  {
   "cell_type": "code",
   "execution_count": 20,
   "metadata": {
    "collapsed": false
   },
   "outputs": [
    {
     "name": "stdout",
     "output_type": "stream",
     "text": [
      "6\n",
      "7\n",
      "8\n",
      "9\n"
     ]
    }
   ],
   "source": [
    "counter = 6\n",
    "while counter < 10:\n",
    "    print counter\n",
    "    counter += 1"
   ]
  },
  {
   "cell_type": "markdown",
   "metadata": {
    "collapsed": true
   },
   "source": [
    "# Creating functions in Python\n",
    "\n",
    "Again, we don't use {}, but just indent the lines that are part of the function."
   ]
  },
  {
   "cell_type": "code",
   "execution_count": 21,
   "metadata": {
    "collapsed": true
   },
   "outputs": [],
   "source": [
    "def add2(x):\n",
    "    y = x + 2\n",
    "    return y"
   ]
  },
  {
   "cell_type": "code",
   "execution_count": 22,
   "metadata": {
    "collapsed": true
   },
   "outputs": [],
   "source": [
    "i = 5"
   ]
  },
  {
   "cell_type": "code",
   "execution_count": 23,
   "metadata": {
    "collapsed": false
   },
   "outputs": [
    {
     "data": {
      "text/plain": [
       "7"
      ]
     },
     "execution_count": 23,
     "metadata": {},
     "output_type": "execute_result"
    }
   ],
   "source": [
    "add2(i)"
   ]
  },
  {
   "cell_type": "markdown",
   "metadata": {},
   "source": [
    "We can also define simple functions with lambdas:"
   ]
  },
  {
   "cell_type": "code",
   "execution_count": 1,
   "metadata": {
    "collapsed": true
   },
   "outputs": [],
   "source": [
    "square = lambda x: x*x"
   ]
  },
  {
   "cell_type": "code",
   "execution_count": 2,
   "metadata": {
    "collapsed": false
   },
   "outputs": [
    {
     "data": {
      "text/plain": [
       "9"
      ]
     },
     "execution_count": 2,
     "metadata": {},
     "output_type": "execute_result"
    }
   ],
   "source": [
    "square(3)"
   ]
  },
  {
   "cell_type": "code",
   "execution_count": 1,
   "metadata": {
    "collapsed": false
   },
   "outputs": [
    {
     "name": "stdout",
     "output_type": "stream",
     "text": [
      "hello world\n"
     ]
    }
   ],
   "source": [
    "print 'hello world'"
   ]
  },
  {
   "cell_type": "code",
   "execution_count": 2,
   "metadata": {
    "collapsed": false
   },
   "outputs": [
    {
     "name": "stdout",
     "output_type": "stream",
     "text": [
      "\n",
      "Please wait a moment while I gather a list of all available modules...\n",
      "\n"
     ]
    },
    {
     "name": "stderr",
     "output_type": "stream",
     "text": [
      "C:\\Users\\Narayan\\Anaconda2\\lib\\site-packages\\IPython\\kernel\\__init__.py:13: ShimWarning: The `IPython.kernel` package has been deprecated. You should import from ipykernel or jupyter_client instead.\n",
      "  \"You should import from ipykernel or jupyter_client instead.\", ShimWarning)\n",
      "C:\\Users\\Narayan\\Anaconda2\\lib\\site-packages\\astropy\\analytic_functions\\blackbody.py:30: RuntimeWarning: overflow encountered in expm1\n",
      "  _has_buggy_expm1 = np.isnan(np.expm1(1000))\n",
      "C:\\Users\\Narayan\\Anaconda2\\lib\\site-packages\\astropy\\analytic_functions\\blackbody.py:30: RuntimeWarning: invalid value encountered in expm1\n",
      "  _has_buggy_expm1 = np.isnan(np.expm1(1000))\n",
      "C:\\Users\\Narayan\\Anaconda2\\lib\\site-packages\\matplotlib\\cbook.py:137: MatplotlibDeprecationWarning: The matplotlib.delaunay module was deprecated in version 1.4. Use matplotlib.tri.Triangulation instead.\n",
      "  warnings.warn(message, mplDeprecation, stacklevel=1)\n",
      "C:\\Users\\Narayan\\Anaconda2\\lib\\site-packages\\nltk\\app\\__init__.py:45: UserWarning: nltk.app.wordfreq not loaded (requires the matplotlib library).\n",
      "  warnings.warn(\"nltk.app.wordfreq not loaded \"\n",
      "C:\\Users\\Narayan\\Anaconda2\\lib\\site-packages\\nltk\\twitter\\__init__.py:20: UserWarning: The twython library has not been installed. Some functionality from the twitter package will not be available.\n",
      "  warnings.warn(\"The twython library has not been installed. \"\n",
      "C:\\Users\\Narayan\\Anaconda2\\lib\\pkgutil.py:110: FutureWarning: The pandas.rpy module is deprecated and will be removed in a future version. We refer to external packages like rpy2. \n",
      "See here for a guide on how to port your code to rpy2: http://pandas.pydata.org/pandas-docs/stable/r_interface.html\n",
      "  __import__(name)\n",
      "C:\\Users\\Narayan\\Anaconda2\\lib\\site-packages\\skimage\\filter\\__init__.py:6: skimage_deprecation: The `skimage.filter` module has been renamed to `skimage.filters`.  This placeholder module will be removed in v0.13.\n",
      "  warn(skimage_deprecation('The `skimage.filter` module has been renamed '\n"
     ]
    },
    {
     "name": "stdout",
     "output_type": "stream",
     "text": [
      "BaseHTTPServer      cmd                 mmapfile            sre_constants\n",
      "Bastion             code                mmsystem            sre_parse\n",
      "CGIHTTPServer       codecs              modulefinder        ssl\n",
      "Canvas              codeop              mpl_toolkits        sspi\n",
      "ConfigParser        collections         mpmath              sspicon\n",
      "Cookie              colorama            msilib              stat\n",
      "Crypto              colorsys            msvcrt              statsmodels\n",
      "Cython              command             multifile           statvfs\n",
      "Dialog              commands            multipledispatch    storemagic\n",
      "DocXMLRPCServer     commctrl            multiprocessing     string\n",
      "FileDialog          compileall          mutex               stringold\n",
      "FixTk               compiler            nbconvert           stringprep\n",
      "HTMLParser          comtypes            nbformat            strop\n",
      "IPython             concurrent          netbios             struct\n",
      "MimeWriter          conda_build         netrc               subprocess\n",
      "PIL                 conda_manager       networkx            sunau\n",
      "Queue               configobj           new                 sunaudio\n",
      "ScrolledText        contextlib          nltk                symbol\n",
      "SimpleDialog        cookielib           nntplib             sympy\n",
      "SimpleHTTPServer    copy                nose                sympyprinting\n",
      "SimpleXMLRPCServer  copy_reg            notebook            symtable\n",
      "SocketServer        csv                 nt                  sys\n",
      "StringIO            ctypes              ntpath              sysconfig\n",
      "Tix                 curses              ntsecuritycon       tables\n",
      "Tkconstants         cwp                 nturl2path          tabnanny\n",
      "Tkdnd               cycler              numba               tarfile\n",
      "Tkinter             cython              numbers             telnetlib\n",
      "UserDict            cythonmagic         numexpr             tempfile\n",
      "UserList            cytoolz             numpy               test_path\n",
      "UserString          dask                odbc                test_pycosat\n",
      "_LWPCookieJar       datashape           odo                 tests\n",
      "_MozillaCookieJar   datetime            opcode              textwrap\n",
      "__builtin__         dateutil            openpyxl            this\n",
      "__future__          dbhash              operator            thread\n",
      "_abcoll             dbi                 optparse            threading\n",
      "_ast                dde                 os                  time\n",
      "_bisect             decimal             os2emxpath          timeit\n",
      "_bsddb              decorator           pandas              timer\n",
      "_cffi_backend       difflib             parser              tkColorChooser\n",
      "_codecs             dill                partd               tkCommonDialog\n",
      "_codecs_cn          dircache            path                tkFileDialog\n",
      "_codecs_hk          dis                 patsy               tkFont\n",
      "_codecs_iso2022     distutils           pdb                 tkMessageBox\n",
      "_codecs_jp          doctest             pep8                tkSimpleDialog\n",
      "_codecs_kr          docutils            perfmon             toaiff\n",
      "_codecs_tw          dumbdbm             pickle              token\n",
      "_collections        dummy_thread        pickleshare         tokenize\n",
      "_csv                dummy_threading     pickletools         toolz\n",
      "_ctypes             easy_install        pip                 tornado\n",
      "_ctypes_test        email               pipes               trace\n",
      "_elementtree        encodings           pkg_resources       traceback\n",
      "_functools          enum                pkgutil             traitlets\n",
      "_hashlib            errno               platform            ttk\n",
      "_heapq              et_xmlfile          plistlib            tty\n",
      "_hotshot            exceptions          ply                 turtle\n",
      "_io                 extern              popen2              types\n",
      "_json               fastcache           poplib              unicodecsv\n",
      "_license            filecmp             posixfile           unicodedata\n",
      "_locale             fileinput           posixpath           unittest\n",
      "_lsprof             flask               pprint              urllib\n",
      "_md5                flask_cors          profile             urllib2\n",
      "_msi                fnmatch             pstats              urlparse\n",
      "_multibytecodec     formatter           psutil              user\n",
      "_multiprocessing    fpformat            pty                 uu\n",
      "_nsis               fractions           py                  uuid\n",
      "_osx_support        ftplib              py_compile          validate\n",
      "_pyio               funcsigs            pyasn1              warnings\n",
      "_pytest             functools           pyclbr              wave\n",
      "_random             future_builtins     pycosat             weakref\n",
      "_sha                gc                  pycparser           webbrowser\n",
      "_sha256             genericpath         pydoc               werkzeug\n",
      "_sha512             getopt              pydoc_data          wheel\n",
      "_socket             getpass             pyexpat             whichdb\n",
      "_sqlite3            gettext             pyflakes            win2kras\n",
      "_sre                gevent              pygments            win32api\n",
      "_ssl                glob                pylab               win32clipboard\n",
      "_strptime           greenlet            pyparsing           win32com\n",
      "_struct             grin                pyreadline          win32con\n",
      "_subprocess         gzip                pytest              win32console\n",
      "_symtable           h5py                pythoncom           win32cred\n",
      "_system_path        hashlib             pytz                win32crypt\n",
      "_testcapi           heapdict            pywin               win32cryptcon\n",
      "_threading_local    heapq               pywin32_testutil    win32event\n",
      "_tkinter            hmac                pywintypes          win32evtlog\n",
      "_vendor             hotshot             pyximport           win32evtlogutil\n",
      "_version            htmlentitydefs      qtawesome           win32file\n",
      "_warnings           htmllib             qtconsole           win32gui\n",
      "_weakref            httplib             qtpy                win32gui_struct\n",
      "_weakrefset         idlelib             quopri              win32help\n",
      "_win32sysloader     idna                random              win32inet\n",
      "_winreg             ihooks              rasutil             win32inetcon\n",
      "_winxptheme         imageop             re                  win32job\n",
      "_yaml               imaplib             readline            win32lz\n",
      "abc                 imghdr              regcheck            win32net\n",
      "adodbapi            imp                 regutil             win32netcon\n",
      "afxres              importlib           repr                win32pdh\n",
      "aifc                imputil             requests            win32pdhquery\n",
      "alabaster           inspect             rexec               win32pdhutil\n",
      "antigravity         io                  rfc822              win32pipe\n",
      "anydbm              ipaddress           rlcompleter         win32print\n",
      "argcomplete         ipykernel           rmagic              win32process\n",
      "argparse            ipython_genutils    robotparser         win32profile\n",
      "array               ipywidgets          rope                win32ras\n",
      "ast                 isapi               ruamel_yaml         win32rcparser\n",
      "astropy             itertools           runpy               win32security\n",
      "asynchat            itsdangerous        sched               win32service\n",
      "asyncore            jdcal               scipy               win32serviceutil\n",
      "atexit              jedi                select              win32timezone\n",
      "audiodev            jinja2              servicemanager      win32trace\n",
      "audioop             json                sets                win32traceutil\n",
      "autoreload          jsonschema          setuptools          win32transaction\n",
      "babel               jupyter             sgmllib             win32ts\n",
      "backports           jupyter_client      sha                 win32ui\n",
      "backports_abc       jupyter_console     shelve              win32uiole\n",
      "base64              jupyter_core        shlex               win32verstamp\n",
      "bdb                 keyword             shutil              win32wnet\n",
      "binascii            lib2to3             signal              winerror\n",
      "binhex              linecache           simplegeneric       winioctlcon\n",
      "binstar_client      llvmlite            singledispatch      winnt\n",
      "bisect              locale              singledispatch_helpers winperf\n",
      "bitarray            locket              sip                 winsound\n",
      "blaze               logging             sipconfig           winxpgui\n",
      "bokeh               lxml                sipdistutils        winxptheme\n",
      "boto                macpath             site                wsgiref\n",
      "bottleneck          macurl2path         six                 xdrlib\n",
      "bs4                 mailbox             skimage             xlrd\n",
      "bsddb               mailcap             sklearn             xlsxwriter\n",
      "bz2                 markupbase          smtpd               xlwings\n",
      "cPickle             markupsafe          smtplib             xlwt\n",
      "cProfile            marshal             sndhdr              xml\n",
      "cStringIO           math                snowballstemmer     xmllib\n",
      "calendar            matplotlib          socket              xmlrpclib\n",
      "cdecimal            md5                 sockjs              xxsubtype\n",
      "cffi                menuinst            sphinx              yaml\n",
      "cgi                 mhlib               sphinx_rtd_theme    zipfile\n",
      "cgitb               mimetools           spyderlib           zipimport\n",
      "chest               mimetypes           spyderplugins       zlib\n",
      "chunk               mimify              sqlalchemy          zmq\n",
      "cloudpickle         mistune             sqlite3             \n",
      "clyent              mkl                 sre                 \n",
      "cmath               mmap                sre_compile         \n",
      "\n",
      "Enter any module name to get more help.  Or, type \"modules spam\" to search\n",
      "for modules whose descriptions contain the word \"spam\".\n",
      "\n"
     ]
    }
   ],
   "source": [
    "help(\"modules\")"
   ]
  },
  {
   "cell_type": "code",
   "execution_count": null,
   "metadata": {
    "collapsed": true
   },
   "outputs": [],
   "source": []
  }
 ],
 "metadata": {
  "kernelspec": {
   "display_name": "Python 2",
   "language": "python",
   "name": "python2"
  },
  "language_info": {
   "codemirror_mode": {
    "name": "ipython",
    "version": 2
   },
   "file_extension": ".py",
   "mimetype": "text/x-python",
   "name": "python",
   "nbconvert_exporter": "python",
   "pygments_lexer": "ipython2",
   "version": "2.7.13"
  }
 },
 "nbformat": 4,
 "nbformat_minor": 0
}
